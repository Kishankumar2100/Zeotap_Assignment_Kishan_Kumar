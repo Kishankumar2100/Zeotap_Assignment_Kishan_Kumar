{
 "cells": [
  {
   "cell_type": "code",
   "execution_count": 1,
   "id": "b1fb7b62-f976-4e32-a3c6-472a7855ffd6",
   "metadata": {},
   "outputs": [],
   "source": [
    "import pandas as pd\n",
    "import numpy as np\n",
    "import matplotlib.pyplot as plt\n",
    "import seaborn as sns"
   ]
  },
  {
   "cell_type": "code",
   "execution_count": 2,
   "id": "86e189bc-6a3a-42e3-a043-381fb5cb199c",
   "metadata": {},
   "outputs": [],
   "source": [
    "customers = pd.read_csv('Customers.csv')\n",
    "products = pd.read_csv('Products.csv')\n",
    "transactions = pd.read_csv('Transactions.csv')"
   ]
  },
  {
   "cell_type": "code",
   "execution_count": 3,
   "id": "72027277-7691-4aca-bee5-ce02edb58599",
   "metadata": {},
   "outputs": [
    {
     "name": "stdout",
     "output_type": "stream",
     "text": [
      "  CustomerID        CustomerName         Region  SignupDate\n",
      "0      C0001    Lawrence Carroll  South America  2022-07-10\n",
      "1      C0002      Elizabeth Lutz           Asia  2022-02-13\n",
      "2      C0003      Michael Rivera  South America  2024-03-07\n",
      "3      C0004  Kathleen Rodriguez  South America  2022-10-09\n",
      "4      C0005         Laura Weber           Asia  2022-08-15\n",
      "  ProductID              ProductName     Category   Price\n",
      "0      P001     ActiveWear Biography        Books  169.30\n",
      "1      P002    ActiveWear Smartwatch  Electronics  346.30\n",
      "2      P003  ComfortLiving Biography        Books   44.12\n",
      "3      P004            BookWorld Rug   Home Decor   95.69\n",
      "4      P005          TechPro T-Shirt     Clothing  429.31\n",
      "  TransactionID CustomerID ProductID      TransactionDate  Quantity  \\\n",
      "0        T00001      C0199      P067  2024-08-25 12:38:23         1   \n",
      "1        T00112      C0146      P067  2024-05-27 22:23:54         1   \n",
      "2        T00166      C0127      P067  2024-04-25 07:38:55         1   \n",
      "3        T00272      C0087      P067  2024-03-26 22:55:37         2   \n",
      "4        T00363      C0070      P067  2024-03-21 15:10:10         3   \n",
      "\n",
      "   TotalValue   Price  \n",
      "0      300.68  300.68  \n",
      "1      300.68  300.68  \n",
      "2      300.68  300.68  \n",
      "3      601.36  300.68  \n",
      "4      902.04  300.68  \n"
     ]
    }
   ],
   "source": [
    "print(customers.head())\n",
    "print(products.head())\n",
    "print(transactions.head())"
   ]
  },
  {
   "cell_type": "code",
   "execution_count": 4,
   "id": "96008cbe-6a2c-417b-9ebe-057ab980b9c1",
   "metadata": {},
   "outputs": [
    {
     "name": "stdout",
     "output_type": "stream",
     "text": [
      "<class 'pandas.core.frame.DataFrame'>\n",
      "RangeIndex: 200 entries, 0 to 199\n",
      "Data columns (total 4 columns):\n",
      " #   Column        Non-Null Count  Dtype \n",
      "---  ------        --------------  ----- \n",
      " 0   CustomerID    200 non-null    object\n",
      " 1   CustomerName  200 non-null    object\n",
      " 2   Region        200 non-null    object\n",
      " 3   SignupDate    200 non-null    object\n",
      "dtypes: object(4)\n",
      "memory usage: 6.4+ KB\n",
      "None\n",
      "<class 'pandas.core.frame.DataFrame'>\n",
      "RangeIndex: 100 entries, 0 to 99\n",
      "Data columns (total 4 columns):\n",
      " #   Column       Non-Null Count  Dtype  \n",
      "---  ------       --------------  -----  \n",
      " 0   ProductID    100 non-null    object \n",
      " 1   ProductName  100 non-null    object \n",
      " 2   Category     100 non-null    object \n",
      " 3   Price        100 non-null    float64\n",
      "dtypes: float64(1), object(3)\n",
      "memory usage: 3.2+ KB\n",
      "None\n",
      "<class 'pandas.core.frame.DataFrame'>\n",
      "RangeIndex: 1000 entries, 0 to 999\n",
      "Data columns (total 7 columns):\n",
      " #   Column           Non-Null Count  Dtype  \n",
      "---  ------           --------------  -----  \n",
      " 0   TransactionID    1000 non-null   object \n",
      " 1   CustomerID       1000 non-null   object \n",
      " 2   ProductID        1000 non-null   object \n",
      " 3   TransactionDate  1000 non-null   object \n",
      " 4   Quantity         1000 non-null   int64  \n",
      " 5   TotalValue       1000 non-null   float64\n",
      " 6   Price            1000 non-null   float64\n",
      "dtypes: float64(2), int64(1), object(4)\n",
      "memory usage: 54.8+ KB\n",
      "None\n"
     ]
    }
   ],
   "source": [
    "print(customers.info())\n",
    "print(products.info())\n",
    "print(transactions.info())"
   ]
  },
  {
   "cell_type": "code",
   "execution_count": 5,
   "id": "0c2dbc1d-62db-450c-833e-15565cf3be32",
   "metadata": {},
   "outputs": [
    {
     "name": "stdout",
     "output_type": "stream",
     "text": [
      "       CustomerID      CustomerName         Region  SignupDate\n",
      "count         200               200            200         200\n",
      "unique        200               200              4         179\n",
      "top         C0001  Lawrence Carroll  South America  2022-04-16\n",
      "freq            1                 1             59           3\n",
      "            Price\n",
      "count  100.000000\n",
      "mean   267.551700\n",
      "std    143.219383\n",
      "min     16.080000\n",
      "25%    147.767500\n",
      "50%    292.875000\n",
      "75%    397.090000\n",
      "max    497.760000\n",
      "          Quantity   TotalValue       Price\n",
      "count  1000.000000  1000.000000  1000.00000\n",
      "mean      2.537000   689.995560   272.55407\n",
      "std       1.117981   493.144478   140.73639\n",
      "min       1.000000    16.080000    16.08000\n",
      "25%       2.000000   295.295000   147.95000\n",
      "50%       3.000000   588.880000   299.93000\n",
      "75%       4.000000  1011.660000   404.40000\n",
      "max       4.000000  1991.040000   497.76000\n"
     ]
    }
   ],
   "source": [
    "print(customers.describe())\n",
    "print(products.describe())\n",
    "print(transactions.describe())"
   ]
  },
  {
   "cell_type": "markdown",
   "id": "9e306409-6bc2-46da-961b-0ae0be874616",
   "metadata": {},
   "source": [
    "# Lookalike Model"
   ]
  },
  {
   "cell_type": "code",
   "execution_count": 11,
   "id": "c14445a6-ce7b-492b-9e9b-b7a25f4e1649",
   "metadata": {},
   "outputs": [],
   "source": [
    "from sklearn.metrics.pairwise import cosine_similarity\n",
    "from sklearn.preprocessing import StandardScaler"
   ]
  },
  {
   "cell_type": "code",
   "execution_count": 12,
   "id": "1f19ae13-6377-4c5c-ac8b-48a41a39974a",
   "metadata": {},
   "outputs": [],
   "source": [
    "customer_data = customers.merge(transactions, on='CustomerID', how='inner')\n",
    "customer_product_data = customer_data.groupby(['CustomerID', 'ProductID'])['Quantity'].sum().unstack(fill_value=0)"
   ]
  },
  {
   "cell_type": "code",
   "execution_count": 13,
   "id": "61bb74a4-7225-4205-94bc-54d5bcc79867",
   "metadata": {},
   "outputs": [],
   "source": [
    "scaler = StandardScaler()\n",
    "customer_product_data_scaled = scaler.fit_transform(customer_product_data)"
   ]
  },
  {
   "cell_type": "code",
   "execution_count": 14,
   "id": "0ed4a619-9b71-49b7-8aae-29c27880ccb2",
   "metadata": {},
   "outputs": [],
   "source": [
    "similarity_matrix = cosine_similarity(customer_product_data_scaled)"
   ]
  },
  {
   "cell_type": "code",
   "execution_count": 15,
   "id": "ddb64f25-ff3d-4b55-b210-d12758cb9962",
   "metadata": {},
   "outputs": [],
   "source": [
    "def get_top_lookalikes(customer_id, similarity_matrix, top_n=3):\n",
    "    customer_idx = customer_product_data.index.get_loc(customer_id)\n",
    "    similarity_scores = similarity_matrix[customer_idx]"
   ]
  },
  {
   "cell_type": "code",
   "execution_count": 18,
   "id": "a5d02d54-ffa1-4287-8f5d-aedf847c59e8",
   "metadata": {},
   "outputs": [
    {
     "name": "stdout",
     "output_type": "stream",
     "text": [
      "      Lookalike_1 Lookalike_2 Lookalike_3   Score_1   Score_2   Score_3\n",
      "C0001       C0194       C0104       C0020  0.404928  0.374002  0.366609\n",
      "C0002       C0030       C0091       C0071  0.404617  0.383778  0.320158\n",
      "C0003       C0181       C0134       C0144  0.477572  0.471016  0.423800\n",
      "C0004       C0070       C0175       C0132  0.351901  0.316098  0.279599\n",
      "C0005       C0096       C0023       C0055  0.487456  0.470252  0.382100\n"
     ]
    }
   ],
   "source": [
    "\n",
    "    similar_customers = sorted(\n",
    "        list(enumerate(similarity_scores)), key=lambda x: x[1], reverse=True\n",
    "    )\n",
    "    \n",
    "    top_lookalikes = [(customer_product_data.index[i], score) for i, score in similar_customers[1:top_n+1]]\n",
    "    \n",
    "    return top_lookalikes\n",
    "\n",
    "lookalike_results = {}\n",
    "\n",
    "for customer_id in customer_product_data.index[:20]:\n",
    "    lookalikes = get_top_lookalikes(customer_id, similarity_matrix)\n",
    "    lookalike_results[customer_id] = [lookalike[0] for lookalike in lookalikes] + [lookalike[1] for lookalike in lookalikes]\n",
    "\n",
    "columns = ['Lookalike_1', 'Lookalike_2', 'Lookalike_3', 'Score_1', 'Score_2', 'Score_3']\n",
    "lookalike_df = pd.DataFrame.from_dict(lookalike_results, orient='index', columns=columns)\n",
    "lookalike_df.to_csv('Lookalike.csv')\n",
    "\n",
    "print(lookalike_df.head())\n"
   ]
  },
  {
   "cell_type": "code",
   "execution_count": null,
   "id": "abf8bd43-b27e-457e-873c-787ac25e76b9",
   "metadata": {},
   "outputs": [],
   "source": []
  }
 ],
 "metadata": {
  "kernelspec": {
   "display_name": "Python 3 (ipykernel)",
   "language": "python",
   "name": "python3"
  },
  "language_info": {
   "codemirror_mode": {
    "name": "ipython",
    "version": 3
   },
   "file_extension": ".py",
   "mimetype": "text/x-python",
   "name": "python",
   "nbconvert_exporter": "python",
   "pygments_lexer": "ipython3",
   "version": "3.10.5"
  }
 },
 "nbformat": 4,
 "nbformat_minor": 5
}
